{
  "nbformat": 4,
  "nbformat_minor": 0,
  "metadata": {
    "colab": {
      "name": "Word2Vec_Skipgram_Torch(Softmax).ipynb",
      "provenance": [],
      "collapsed_sections": []
    },
    "kernelspec": {
      "name": "python3",
      "display_name": "Python 3"
    },
    "accelerator": "GPU"
  },
  "cells": [
    {
      "cell_type": "code",
      "metadata": {
        "id": "3PgIns-jRj_8",
        "colab_type": "code",
        "colab": {
          "base_uri": "https://localhost:8080/",
          "height": 127
        },
        "outputId": "eb85e9f2-53a8-4430-b67d-ec2875e3d38c"
      },
      "source": [
        "'''\n",
        "  code by Tae Hwan Jung(Jeff Jung) @graykode\n",
        "'''\n",
        "#2020.07.20 reviewed by Seungsoo Lee @teddy309 \n",
        "#reference ratsgo blog( https://ratsgo.github.io/from%20frequency%20to%20semantics/2017/03/30/word2vec/ )\n",
        "\n",
        "import numpy as np\n",
        "import torch\n",
        "import torch.nn as nn\n",
        "import torch.optim as optim\n",
        "from torch.autograd import Variable\n",
        "import matplotlib.pyplot as plt\n",
        "\n",
        "dtype = torch.FloatTensor\n",
        "\n",
        "# 3 Words Sentence\n",
        "sentences = [ \"i like dog\", \"i like cat\", \"i like animal\",\n",
        "              \"dog cat animal\", \"apple cat dog like\", \"dog fish milk like\",\n",
        "              \"dog cat eyes like\", \"i like apple\", \"apple i hate\",\n",
        "              \"apple i movie book music like\", \"cat dog hate\", \"cat dog like\"]\n",
        "\n",
        "word_sequence = \" \".join(sentences).split()\n",
        "word_list = \" \".join(sentences).split()\n",
        "word_list = list(set(word_list))\n",
        "word_dict = {w: i for i, w in enumerate(word_list)}\n",
        "\n",
        "#test\n",
        "print(word_sequence)\n",
        "print(word_list)\n",
        "print(word_dict)\n",
        "print(word_dict['i'])\n",
        "print(len(word_list),len(word_sequence))"
      ],
      "execution_count": 2,
      "outputs": [
        {
          "output_type": "stream",
          "text": [
            "['i', 'like', 'dog', 'i', 'like', 'cat', 'i', 'like', 'animal', 'dog', 'cat', 'animal', 'apple', 'cat', 'dog', 'like', 'dog', 'fish', 'milk', 'like', 'dog', 'cat', 'eyes', 'like', 'i', 'like', 'apple', 'apple', 'i', 'hate', 'apple', 'i', 'movie', 'book', 'music', 'like', 'cat', 'dog', 'hate', 'cat', 'dog', 'like']\n",
            "['animal', 'book', 'dog', 'milk', 'eyes', 'movie', 'music', 'i', 'apple', 'fish', 'hate', 'like', 'cat']\n",
            "{'animal': 0, 'book': 1, 'dog': 2, 'milk': 3, 'eyes': 4, 'movie': 5, 'music': 6, 'i': 7, 'apple': 8, 'fish': 9, 'hate': 10, 'like': 11, 'cat': 12}\n",
            "7\n",
            "13 42\n"
          ],
          "name": "stdout"
        }
      ]
    },
    {
      "cell_type": "code",
      "metadata": {
        "id": "k-thS0RUEQMz",
        "colab_type": "code",
        "colab": {
          "base_uri": "https://localhost:8080/",
          "height": 487
        },
        "outputId": "b3dc19a1-762e-4945-c888-03115fa50111"
      },
      "source": [
        "# Word2Vec Parameter\n",
        "batch_size = 20  # To show 2 dim embedding graph\n",
        "embedding_size = 2  # To show 2 dim embedding graph\n",
        "voc_size = len(word_list)\n",
        "\n",
        "def random_batch(data, size):\n",
        "    random_inputs = []\n",
        "    random_labels = []\n",
        "    random_index = np.random.choice(range(len(data)), size, replace=False)\n",
        "\n",
        "    for i in random_index:\n",
        "        random_inputs.append(np.eye(voc_size)[data[i][0]])  # target\n",
        "        random_labels.append(data[i][1])  # context word\n",
        "\n",
        "    return random_inputs, random_labels\n",
        "\n",
        "# Make skip gram of one size window\n",
        "skip_grams = []\n",
        "for i in range(1, len(word_sequence) - 1): #+1해야되는거 아닌가? -> i번쨰 word_sequence에 있는 단어들에 대해 \n",
        "    target = word_dict[word_sequence[i]]\n",
        "    context = [word_dict[word_sequence[i - 1]], word_dict[word_sequence[i + 1]]]\n",
        "\n",
        "    for w in context:\n",
        "        skip_grams.append([target, w])\n",
        "\n",
        "# Model\n",
        "class Word2Vec(nn.Module):\n",
        "    def __init__(self):\n",
        "        super(Word2Vec, self).__init__()\n",
        "\n",
        "        # W and WT is not Transpose relationship(모양은 transpose하지만, 값이 같진 않음.)\n",
        "        self.W = nn.Parameter(-2 * torch.rand(voc_size, embedding_size) + 1).type(dtype) # voc_size > embedding_size Weight\n",
        "        self.WT = nn.Parameter(-2 * torch.rand(embedding_size, voc_size) + 1).type(dtype) # embedding_size > voc_size Weight\n",
        "\n",
        "    def forward(self, X):\n",
        "        # X : [batch_size, voc_size]\n",
        "        hidden_layer = torch.matmul(X, self.W) # hidden_layer : [batch_size, embedding_size]\n",
        "        output_layer = torch.matmul(hidden_layer, self.WT) # output_layer : [batch_size, voc_size]\n",
        "        return output_layer\n",
        "\n",
        "\n",
        "#test\n",
        "print(skip_grams)\n",
        "[print(len(skip_grams))]\n",
        "randInput,randLabels=random_batch(skip_grams,batch_size)\n",
        "print(randInput)\n",
        "print(randLabels)\n",
        "print(Variable(torch.Tensor(randInput)))#oneHot으로 \n",
        "print(len(randInput),len(randLabels))"
      ],
      "execution_count": 8,
      "outputs": [
        {
          "output_type": "stream",
          "text": [
            "[[11, 7], [11, 2], [2, 11], [2, 7], [7, 2], [7, 11], [11, 7], [11, 12], [12, 11], [12, 7], [7, 12], [7, 11], [11, 7], [11, 0], [0, 11], [0, 2], [2, 0], [2, 12], [12, 2], [12, 0], [0, 12], [0, 8], [8, 0], [8, 12], [12, 8], [12, 2], [2, 12], [2, 11], [11, 2], [11, 2], [2, 11], [2, 9], [9, 2], [9, 3], [3, 9], [3, 11], [11, 3], [11, 2], [2, 11], [2, 12], [12, 2], [12, 4], [4, 12], [4, 11], [11, 4], [11, 7], [7, 11], [7, 11], [11, 7], [11, 8], [8, 11], [8, 8], [8, 8], [8, 7], [7, 8], [7, 10], [10, 7], [10, 8], [8, 10], [8, 7], [7, 8], [7, 5], [5, 7], [5, 1], [1, 5], [1, 6], [6, 1], [6, 11], [11, 6], [11, 12], [12, 11], [12, 2], [2, 12], [2, 10], [10, 2], [10, 12], [12, 10], [12, 2], [2, 12], [2, 11]]\n",
            "80\n",
            "[array([0., 0., 0., 0., 0., 0., 0., 0., 0., 0., 0., 1., 0.]), array([0., 0., 0., 0., 0., 0., 0., 0., 1., 0., 0., 0., 0.]), array([0., 0., 0., 0., 0., 0., 0., 0., 0., 0., 0., 1., 0.]), array([0., 0., 0., 0., 0., 0., 0., 0., 0., 0., 0., 0., 1.]), array([0., 0., 0., 0., 0., 0., 0., 1., 0., 0., 0., 0., 0.]), array([0., 1., 0., 0., 0., 0., 0., 0., 0., 0., 0., 0., 0.]), array([0., 0., 1., 0., 0., 0., 0., 0., 0., 0., 0., 0., 0.]), array([1., 0., 0., 0., 0., 0., 0., 0., 0., 0., 0., 0., 0.]), array([0., 0., 0., 0., 0., 0., 0., 0., 0., 0., 0., 1., 0.]), array([0., 0., 0., 0., 0., 0., 0., 1., 0., 0., 0., 0., 0.]), array([0., 0., 0., 0., 0., 0., 1., 0., 0., 0., 0., 0., 0.]), array([0., 0., 0., 0., 0., 0., 0., 0., 0., 0., 0., 1., 0.]), array([0., 0., 0., 0., 0., 0., 0., 0., 0., 0., 0., 0., 1.]), array([0., 0., 0., 0., 0., 0., 0., 0., 0., 0., 0., 0., 1.]), array([0., 0., 1., 0., 0., 0., 0., 0., 0., 0., 0., 0., 0.]), array([0., 0., 0., 0., 0., 0., 0., 0., 1., 0., 0., 0., 0.]), array([0., 0., 0., 0., 0., 0., 0., 0., 1., 0., 0., 0., 0.]), array([0., 0., 0., 0., 0., 0., 1., 0., 0., 0., 0., 0., 0.]), array([0., 0., 0., 0., 0., 0., 0., 0., 1., 0., 0., 0., 0.]), array([0., 0., 0., 0., 0., 0., 0., 0., 1., 0., 0., 0., 0.])]\n",
            "[8, 7, 2, 8, 11, 5, 12, 11, 12, 11, 11, 7, 7, 2, 11, 7, 11, 1, 8, 0]\n",
            "tensor([[0., 0., 0., 0., 0., 0., 0., 0., 0., 0., 0., 1., 0.],\n",
            "        [0., 0., 0., 0., 0., 0., 0., 0., 1., 0., 0., 0., 0.],\n",
            "        [0., 0., 0., 0., 0., 0., 0., 0., 0., 0., 0., 1., 0.],\n",
            "        [0., 0., 0., 0., 0., 0., 0., 0., 0., 0., 0., 0., 1.],\n",
            "        [0., 0., 0., 0., 0., 0., 0., 1., 0., 0., 0., 0., 0.],\n",
            "        [0., 1., 0., 0., 0., 0., 0., 0., 0., 0., 0., 0., 0.],\n",
            "        [0., 0., 1., 0., 0., 0., 0., 0., 0., 0., 0., 0., 0.],\n",
            "        [1., 0., 0., 0., 0., 0., 0., 0., 0., 0., 0., 0., 0.],\n",
            "        [0., 0., 0., 0., 0., 0., 0., 0., 0., 0., 0., 1., 0.],\n",
            "        [0., 0., 0., 0., 0., 0., 0., 1., 0., 0., 0., 0., 0.],\n",
            "        [0., 0., 0., 0., 0., 0., 1., 0., 0., 0., 0., 0., 0.],\n",
            "        [0., 0., 0., 0., 0., 0., 0., 0., 0., 0., 0., 1., 0.],\n",
            "        [0., 0., 0., 0., 0., 0., 0., 0., 0., 0., 0., 0., 1.],\n",
            "        [0., 0., 0., 0., 0., 0., 0., 0., 0., 0., 0., 0., 1.],\n",
            "        [0., 0., 1., 0., 0., 0., 0., 0., 0., 0., 0., 0., 0.],\n",
            "        [0., 0., 0., 0., 0., 0., 0., 0., 1., 0., 0., 0., 0.],\n",
            "        [0., 0., 0., 0., 0., 0., 0., 0., 1., 0., 0., 0., 0.],\n",
            "        [0., 0., 0., 0., 0., 0., 1., 0., 0., 0., 0., 0., 0.],\n",
            "        [0., 0., 0., 0., 0., 0., 0., 0., 1., 0., 0., 0., 0.],\n",
            "        [0., 0., 0., 0., 0., 0., 0., 0., 1., 0., 0., 0., 0.]])\n",
            "20 20\n"
          ],
          "name": "stdout"
        }
      ]
    },
    {
      "cell_type": "code",
      "metadata": {
        "id": "vHL-lCliEJPD",
        "colab_type": "code",
        "colab": {
          "base_uri": "https://localhost:8080/",
          "height": 447
        },
        "outputId": "2a040fb6-f30d-4803-c9f9-84a2e60eb83a"
      },
      "source": [
        "model = Word2Vec()\n",
        "\n",
        "criterion = nn.CrossEntropyLoss()\n",
        "optimizer = optim.Adam(model.parameters(), lr=0.001)\n",
        "\n",
        "\n",
        "numEpoch=5000\n",
        "# Training\n",
        "for epoch in range(numEpoch):\n",
        "\n",
        "    input_batch, target_batch = random_batch(skip_grams, batch_size)\n",
        "\n",
        "    input_batch = Variable(torch.Tensor(input_batch))\n",
        "    target_batch = Variable(torch.LongTensor(target_batch))\n",
        "\n",
        "    optimizer.zero_grad()\n",
        "    output = model(input_batch)\n",
        "\n",
        "    # output : [batch_size, voc_size], target_batch : [batch_size] (LongTensor, not one-hot)\n",
        "    loss = criterion(output, target_batch)\n",
        "    if (epoch + 1)%1000 == 0:\n",
        "        print('Epoch:', '%04d' % (epoch + 1), 'cost =', '{:.6f}'.format(loss))\n",
        "\n",
        "    loss.backward()\n",
        "    optimizer.step()\n",
        "\n",
        "for i, label in enumerate(word_list):\n",
        "    W, WT = model.parameters()\n",
        "    x,y = float(W[i][0]), float(W[i][1])\n",
        "    plt.scatter(x, y)\n",
        "    plt.annotate(label, xy=(x, y), xytext=(5, 2), textcoords='offset points', ha='right', va='bottom')\n",
        "plt.show()"
      ],
      "execution_count": 5,
      "outputs": [
        {
          "output_type": "stream",
          "text": [
            "Epoch: 1000 cost = 1.960879\n",
            "Epoch: 2000 cost = 1.827704\n",
            "Epoch: 3000 cost = 2.074756\n",
            "Epoch: 4000 cost = 1.996650\n",
            "Epoch: 5000 cost = 1.734741\n",
            "Epoch: 6000 cost = 1.773432\n",
            "Epoch: 7000 cost = 1.857014\n",
            "Epoch: 8000 cost = 1.669368\n",
            "Epoch: 9000 cost = 1.664464\n",
            "Epoch: 10000 cost = 1.610184\n"
          ],
          "name": "stdout"
        },
        {
          "output_type": "display_data",
          "data": {
            "image/png": "[encoded data removed]",
            "text/plain": [
              "<Figure size 432x288 with 1 Axes>"
            ]
          },
          "metadata": {
            "tags": [],
            "needs_background": "light"
          }
        }
      ]
    }
  ]
}